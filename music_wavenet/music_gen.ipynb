{
  "nbformat": 4,
  "nbformat_minor": 0,
  "metadata": {
    "colab": {
      "name": "music_gen.ipynb",
      "provenance": []
    },
    "kernelspec": {
      "name": "python3",
      "display_name": "Python 3"
    }
  },
  "cells": [
    {
      "cell_type": "code",
      "metadata": {
        "id": "dVNX4y28V247",
        "colab_type": "code",
        "outputId": "aced10f6-a2c3-472d-8d37-91f03322a2b9",
        "colab": {
          "base_uri": "https://localhost:8080/",
          "height": 121
        }
      },
      "source": [
        "from google.colab import drive\n",
        "drive.mount('/content/drive')"
      ],
      "execution_count": 1,
      "outputs": [
        {
          "output_type": "stream",
          "text": [
            "Go to this URL in a browser: https://accounts.google.com/o/oauth2/auth?client_id=947318989803-6bn6qk8qdgf4n4g3pfee6491hc0brc4i.apps.googleusercontent.com&redirect_uri=urn%3aietf%3awg%3aoauth%3a2.0%3aoob&response_type=code&scope=email%20https%3a%2f%2fwww.googleapis.com%2fauth%2fdocs.test%20https%3a%2f%2fwww.googleapis.com%2fauth%2fdrive%20https%3a%2f%2fwww.googleapis.com%2fauth%2fdrive.photos.readonly%20https%3a%2f%2fwww.googleapis.com%2fauth%2fpeopleapi.readonly\n",
            "\n",
            "Enter your authorization code:\n",
            "··········\n",
            "Mounted at /content/drive\n"
          ],
          "name": "stdout"
        }
      ]
    },
    {
      "cell_type": "code",
      "metadata": {
        "id": "16J_TaB6XAdT",
        "colab_type": "code",
        "outputId": "60a465e7-ec7b-44df-d4bc-cb40496a2a65",
        "colab": {
          "base_uri": "https://localhost:8080/",
          "height": 151
        }
      },
      "source": [
        "!ls '/content/drive/My Drive/schubert'"
      ],
      "execution_count": 2,
      "outputs": [
        {
          "output_type": "stream",
          "text": [
            "schu_143_1.mid\t  schub_d960_2.mid     schubert_D935_2.mid  schumm-2.mid\n",
            "schu_143_2.mid\t  schub_d960_3.mid     schubert_D935_3.mid  schumm-3.mid\n",
            "schu_143_3.mid\t  schub_d960_4.mid     schubert_D935_4.mid  schumm-4.mid\n",
            "schub_d760_1.mid  schubert_D850_1.mid  schuim-1.mid\t    schumm-5.mid\n",
            "schub_d760_2.mid  schubert_D850_2.mid  schuim-2.mid\t    schumm-6.mid\n",
            "schub_d760_3.mid  schubert_D850_3.mid  schuim-3.mid\n",
            "schub_d760_4.mid  schubert_D850_4.mid  schuim-4.mid\n",
            "schub_d960_1.mid  schubert_D935_1.mid  schumm-1.mid\n"
          ],
          "name": "stdout"
        }
      ]
    },
    {
      "cell_type": "markdown",
      "metadata": {
        "id": "-Z9EQhBXYFa9",
        "colab_type": "text"
      },
      "source": [
        "# **WaveNet**\n",
        "![alt text](https://cdn.analyticsvidhya.com/wp-content/uploads/2019/12/arcg.jpg)"
      ]
    },
    {
      "cell_type": "markdown",
      "metadata": {
        "id": "Y7X34wYTYSE3",
        "colab_type": "text"
      },
      "source": [
        "**The Workflow of WaveNet:**\n",
        "\n",
        "\n",
        "*   Input is fed into a causal 1D convolution\n",
        "*   The output is then fed to 2 different dilated 1D convolution layers with sigmoid and tanh activations\n",
        "*   The element-wise multiplication of 2 different activation values results in a skip connection\n",
        "*   And the element-wise addition of a skip connection and output of causal 1D results in the residual\n",
        "\n"
      ]
    },
    {
      "cell_type": "code",
      "metadata": {
        "id": "Oegh_q03XF7F",
        "colab_type": "code",
        "colab": {}
      },
      "source": [
        "# music 21 library\n",
        "from music21 import *"
      ],
      "execution_count": 0,
      "outputs": []
    },
    {
      "cell_type": "code",
      "metadata": {
        "id": "mmfhl7hFYxTq",
        "colab_type": "code",
        "colab": {}
      },
      "source": [
        "# reading midi file \n",
        "def read_midi(file):\n",
        "  print(\"Loading music file\",file)\n",
        "  notes=[]\n",
        "  notes_to_parse=None\n",
        "  midi = converter.parse(file)\n",
        "  s2 = instrument.partitionByInstrument(midi)\n",
        "  for part in s2.parts:\n",
        "    if 'Piano' in str(part):\n",
        "      notes_to_parse = part.recurse()\n",
        "      for element in notes_to_parse:\n",
        "        if isinstance(element, note.Note):\n",
        "          notes.append(str(element.pitch))\n",
        "        elif isinstance(element, chord.Chord):\n",
        "          notes.append('.'.join(str(n) for n in element.normalOrder))\n",
        "  \n",
        "  return np.array(notes)\n"
      ],
      "execution_count": 0,
      "outputs": []
    },
    {
      "cell_type": "code",
      "metadata": {
        "id": "Nc6NOZUTAFQd",
        "colab_type": "code",
        "outputId": "61a9abec-5fc3-443a-d341-49849ea2a697",
        "colab": {
          "base_uri": "https://localhost:8080/",
          "height": 506
        }
      },
      "source": [
        "import os\n",
        "import numpy as np\n",
        "path='/content/drive/My Drive/schubert/'\n",
        "\n",
        "files=[i for i in os.listdir(path) if i.endswith(\".mid\")]\n",
        "\n",
        "notes_array = np.array([read_midi(path+i) for i in files])\n"
      ],
      "execution_count": 5,
      "outputs": [
        {
          "output_type": "stream",
          "text": [
            "Loading music file /content/drive/My Drive/schubert/schubert_D850_1.mid\n",
            "Loading music file /content/drive/My Drive/schubert/schubert_D850_2.mid\n",
            "Loading music file /content/drive/My Drive/schubert/schubert_D850_3.mid\n",
            "Loading music file /content/drive/My Drive/schubert/schubert_D850_4.mid\n",
            "Loading music file /content/drive/My Drive/schubert/schub_d760_1.mid\n",
            "Loading music file /content/drive/My Drive/schubert/schub_d760_2.mid\n",
            "Loading music file /content/drive/My Drive/schubert/schub_d760_3.mid\n",
            "Loading music file /content/drive/My Drive/schubert/schub_d760_4.mid\n",
            "Loading music file /content/drive/My Drive/schubert/schumm-1.mid\n",
            "Loading music file /content/drive/My Drive/schubert/schumm-2.mid\n",
            "Loading music file /content/drive/My Drive/schubert/schumm-3.mid\n",
            "Loading music file /content/drive/My Drive/schubert/schumm-4.mid\n",
            "Loading music file /content/drive/My Drive/schubert/schumm-5.mid\n",
            "Loading music file /content/drive/My Drive/schubert/schumm-6.mid\n",
            "Loading music file /content/drive/My Drive/schubert/schu_143_1.mid\n",
            "Loading music file /content/drive/My Drive/schubert/schu_143_2.mid\n",
            "Loading music file /content/drive/My Drive/schubert/schu_143_3.mid\n",
            "Loading music file /content/drive/My Drive/schubert/schuim-1.mid\n",
            "Loading music file /content/drive/My Drive/schubert/schuim-2.mid\n",
            "Loading music file /content/drive/My Drive/schubert/schuim-3.mid\n",
            "Loading music file /content/drive/My Drive/schubert/schuim-4.mid\n",
            "Loading music file /content/drive/My Drive/schubert/schubert_D935_1.mid\n",
            "Loading music file /content/drive/My Drive/schubert/schubert_D935_2.mid\n",
            "Loading music file /content/drive/My Drive/schubert/schubert_D935_3.mid\n",
            "Loading music file /content/drive/My Drive/schubert/schubert_D935_4.mid\n",
            "Loading music file /content/drive/My Drive/schubert/schub_d960_1.mid\n",
            "Loading music file /content/drive/My Drive/schubert/schub_d960_2.mid\n",
            "Loading music file /content/drive/My Drive/schubert/schub_d960_3.mid\n",
            "Loading music file /content/drive/My Drive/schubert/schub_d960_4.mid\n"
          ],
          "name": "stdout"
        }
      ]
    },
    {
      "cell_type": "code",
      "metadata": {
        "id": "lLNnfgXDAjwz",
        "colab_type": "code",
        "outputId": "852276de-9a19-4048-ffef-282a2030b409",
        "colab": {
          "base_uri": "https://localhost:8080/",
          "height": 33
        }
      },
      "source": [
        "notes_ = [element for note_ in notes_array for element in note_]\n",
        "\n",
        "#No. of unique notes\n",
        "unique_notes = list(set(notes_))\n",
        "print(len(unique_notes))\n"
      ],
      "execution_count": 6,
      "outputs": [
        {
          "output_type": "stream",
          "text": [
            "304\n"
          ],
          "name": "stdout"
        }
      ]
    },
    {
      "cell_type": "code",
      "metadata": {
        "id": "72gAchdQBgtK",
        "colab_type": "code",
        "outputId": "de9e723f-9b13-475b-9a97-aa18bec4e5b4",
        "colab": {
          "base_uri": "https://localhost:8080/",
          "height": 403
        }
      },
      "source": [
        "from collections import Counter\n",
        "import matplotlib.pyplot as plt\n",
        "\n",
        "freq = dict(Counter(notes_))\n",
        "no=[count for _,count in freq.items()]\n",
        "\n",
        "plt.figure(figsize=(5,5))\n",
        "plt.hist(no)"
      ],
      "execution_count": 7,
      "outputs": [
        {
          "output_type": "execute_result",
          "data": {
            "text/plain": [
              "(array([187.,  41.,  26.,  11.,   6.,   9.,  12.,   6.,   3.,   3.]),\n",
              " array([1.0000e+00, 1.4790e+02, 2.9480e+02, 4.4170e+02, 5.8860e+02,\n",
              "        7.3550e+02, 8.8240e+02, 1.0293e+03, 1.1762e+03, 1.3231e+03,\n",
              "        1.4700e+03]),\n",
              " <a list of 10 Patch objects>)"
            ]
          },
          "metadata": {
            "tags": []
          },
          "execution_count": 7
        },
        {
          "output_type": "display_data",
          "data": {
            "image/png": "[encoded data removed]",
            "text/plain": [
              "<Figure size 360x360 with 1 Axes>"
            ]
          },
          "metadata": {
            "tags": [],
            "image/png": {
              "width": 319,
              "height": 302
            },
            "needs_background": "light"
          }
        }
      ]
    },
    {
      "cell_type": "code",
      "metadata": {
        "id": "wQDMv0voBuYw",
        "colab_type": "code",
        "outputId": "b5b007b7-e8b1-4eb5-8d25-9daba4e04c42",
        "colab": {
          "base_uri": "https://localhost:8080/",
          "height": 33
        }
      },
      "source": [
        "frequent_notes = [note_ for note_, count in freq.items() if count>=50]\n",
        "print(len(frequent_notes))"
      ],
      "execution_count": 8,
      "outputs": [
        {
          "output_type": "stream",
          "text": [
            "167\n"
          ],
          "name": "stdout"
        }
      ]
    },
    {
      "cell_type": "code",
      "metadata": {
        "id": "2z-ODz7PB6DX",
        "colab_type": "code",
        "colab": {
          "base_uri": "https://localhost:8080/",
          "height": 33
        },
        "outputId": "c4e48837-2c6f-48aa-a3cf-aed164f622b9"
      },
      "source": [
        "new_music=[]\n",
        "\n",
        "for notes in notes_array:\n",
        "    temp=[]\n",
        "    for note_ in notes:\n",
        "        if note_ in frequent_notes:\n",
        "            temp.append(note_)            \n",
        "    new_music.append(temp)\n",
        "    \n",
        "new_music = np.array(new_music)\n",
        "len(new_music[0])"
      ],
      "execution_count": 56,
      "outputs": [
        {
          "output_type": "execute_result",
          "data": {
            "text/plain": [
              "5812"
            ]
          },
          "metadata": {
            "tags": []
          },
          "execution_count": 56
        }
      ]
    },
    {
      "cell_type": "markdown",
      "metadata": {
        "id": "ArOgFxRoENf8",
        "colab_type": "text"
      },
      "source": [
        "# **Preprocessing data**"
      ]
    },
    {
      "cell_type": "code",
      "metadata": {
        "id": "HH1D6k1GCOLc",
        "colab_type": "code",
        "outputId": "88ee5aed-f34d-4b86-c1cd-2287e512c7c4",
        "colab": {
          "base_uri": "https://localhost:8080/",
          "height": 50
        }
      },
      "source": [
        "no_of_timesteps = 32\n",
        "x = []\n",
        "y = []\n",
        "\n",
        "for note_ in new_music:\n",
        "    for i in range(0, len(note_) - no_of_timesteps, 1):\n",
        "        \n",
        "        #preparing input and output sequences\n",
        "        input_ = note_[i:i + no_of_timesteps]\n",
        "        output = note_[i + no_of_timesteps]\n",
        "        \n",
        "        x.append(input_)\n",
        "        y.append(output)\n",
        "        \n",
        "x=np.array(x)\n",
        "y=np.array(y)\n",
        "print(len(x),len(y))\n",
        "x.shape"
      ],
      "execution_count": 30,
      "outputs": [
        {
          "output_type": "stream",
          "text": [
            "64413 64413\n"
          ],
          "name": "stdout"
        },
        {
          "output_type": "execute_result",
          "data": {
            "text/plain": [
              "(64413, 32)"
            ]
          },
          "metadata": {
            "tags": []
          },
          "execution_count": 30
        }
      ]
    },
    {
      "cell_type": "code",
      "metadata": {
        "id": "Xz49KPGiCjlw",
        "colab_type": "code",
        "outputId": "11701988-89a0-4fea-8f2c-ec57588080ac",
        "colab": {
          "base_uri": "https://localhost:8080/",
          "height": 53
        }
      },
      "source": [
        "unique_x = list(set(x.ravel()))\n",
        "x_note_to_int = dict((note_, number) for number, note_ in enumerate(unique_x))\n",
        "print(x_note_to_int)"
      ],
      "execution_count": 11,
      "outputs": [
        {
          "output_type": "stream",
          "text": [
            "{'C3': 0, '6': 1, 'G#1': 2, 'F3': 3, '9.0.4': 4, '3.7': 5, '0.3.6': 6, '7.10.2': 7, '6.10': 8, 'F#4': 9, '7.0': 10, 'F2': 11, '1.5': 12, 'B-2': 13, '7.10.1': 14, '5.8.0': 15, 'E5': 16, '2.8': 17, 'D3': 18, '10.1.5': 19, '4.10': 20, 'E-2': 21, '1.4': 22, '0.5': 23, 'E-3': 24, '1.7': 25, 'B-1': 26, '0.3.5': 27, '6.9.1': 28, 'C#4': 29, '11': 30, '0.3': 31, 'F#6': 32, 'G1': 33, 'E-5': 34, '9.1': 35, '0.3.7': 36, '9.0': 37, '3': 38, '6.9': 39, '10': 40, 'B3': 41, 'G3': 42, '4.8': 43, 'D4': 44, 'G#3': 45, 'B4': 46, '5.9.0': 47, 'E2': 48, '4.9': 49, '4.7.11': 50, 'G#4': 51, '7.9': 52, '7.11': 53, '5': 54, 'F#2': 55, '2.5': 56, 'C#3': 57, '0.6': 58, 'A6': 59, '1.4.7.10': 60, '6.11': 61, '2.6': 62, 'C#7': 63, '3.9': 64, '10.2': 65, 'C2': 66, '9.1.4': 67, 'G2': 68, 'E4': 69, 'A1': 70, 'B5': 71, '8': 72, 'A5': 73, '5.9': 74, '1.4.8': 75, 'E6': 76, 'F#5': 77, '4.8.11': 78, '3.6.8': 79, '1.4.7': 80, '8.11.3': 81, '3.8': 82, '11.2': 83, 'B-5': 84, 'G#2': 85, 'G#5': 86, 'D6': 87, '4.7': 88, '7.10': 89, '11.2.4': 90, '10.1.3': 91, '11.2.6': 92, '8.11.2': 93, '1.5.8': 94, '3.7.10': 95, '8.1': 96, 'B1': 97, '2.4': 98, '8.0.3': 99, 'C7': 100, 'C#6': 101, '0.4': 102, '2.4.8': 103, '7': 104, '5.8': 105, '7.11.2': 106, 'F#3': 107, 'B-6': 108, 'F6': 109, '2.5.7': 110, '7.9.1': 111, 'E-4': 112, '0': 113, 'G5': 114, '5.8.11': 115, 'C6': 116, '5.10': 117, '2.6.9': 118, '10.3': 119, 'D5': 120, 'E-6': 121, 'F5': 122, '4.7.9': 123, '0.2.6': 124, '6.10.1': 125, '3.6': 126, 'F4': 127, 'B2': 128, 'C#5': 129, 'A3': 130, '2.7': 131, '0.2': 132, '9.2': 133, '8.0': 134, '1': 135, 'G#6': 136, '1.6': 137, 'D2': 138, '5.11': 139, '9.0.2': 140, '10.1': 141, 'G6': 142, '10.2.5': 143, '2': 144, 'G4': 145, '11.3.6': 146, 'C#2': 147, '8.11': 148, 'A2': 149, 'A4': 150, 'B-4': 151, 'B-3': 152, 'C5': 153, '5.7': 154, '3.6.9': 155, '11.3': 156, '4': 157, '0.4.7': 158, '11.4': 159, '1.3': 160, '6.8': 161, '9': 162, '2.5.9': 163, '7.10.0': 164, 'E3': 165, 'C4': 166}\n"
          ],
          "name": "stdout"
        }
      ]
    },
    {
      "cell_type": "code",
      "metadata": {
        "id": "n0B2IMCeCzKf",
        "colab_type": "code",
        "outputId": "ad3f8ab5-6620-4cf5-b314-816ec05a46cc",
        "colab": {
          "base_uri": "https://localhost:8080/",
          "height": 33
        }
      },
      "source": [
        "x_seq=[]\n",
        "for i in x:\n",
        "  temp=[]\n",
        "  for j in i:\n",
        "      #assigning unique integer to every note\n",
        "    temp.append(x_note_to_int[j])\n",
        "  x_seq.append(temp)\n",
        "    \n",
        "x_seq = np.array(x_seq)\n",
        "x_seq.shape"
      ],
      "execution_count": 25,
      "outputs": [
        {
          "output_type": "execute_result",
          "data": {
            "text/plain": [
              "(64413, 32)"
            ]
          },
          "metadata": {
            "tags": []
          },
          "execution_count": 25
        }
      ]
    },
    {
      "cell_type": "code",
      "metadata": {
        "id": "GzO5xsSKDUGe",
        "colab_type": "code",
        "outputId": "1578a64e-947b-4de6-9f18-b1a2840b833d",
        "colab": {
          "base_uri": "https://localhost:8080/",
          "height": 33
        }
      },
      "source": [
        "unique_y = list(set(y))\n",
        "y_note_to_int = dict((note_, number) for number, note_ in enumerate(unique_y)) \n",
        "y_seq=np.array([y_note_to_int[i] for i in y])\n",
        "y_seq"
      ],
      "execution_count": 13,
      "outputs": [
        {
          "output_type": "execute_result",
          "data": {
            "text/plain": [
              "array([145,  42,   9, ...,  26,   2,  33])"
            ]
          },
          "metadata": {
            "tags": []
          },
          "execution_count": 13
        }
      ]
    },
    {
      "cell_type": "code",
      "metadata": {
        "id": "olv33c7SDuZA",
        "colab_type": "code",
        "colab": {
          "base_uri": "https://localhost:8080/",
          "height": 33
        },
        "outputId": "45618acf-9bc2-41b0-d044-d6b13c57397a"
      },
      "source": [
        "from sklearn.model_selection import train_test_split\n",
        "x_tr, x_val, y_tr, y_val = train_test_split(x_seq,y_seq,test_size=0.2,random_state=0)\n",
        "x_tr.shape"
      ],
      "execution_count": 31,
      "outputs": [
        {
          "output_type": "execute_result",
          "data": {
            "text/plain": [
              "(51530, 32)"
            ]
          },
          "metadata": {
            "tags": []
          },
          "execution_count": 31
        }
      ]
    },
    {
      "cell_type": "markdown",
      "metadata": {
        "id": "4oe_9e7AEVvY",
        "colab_type": "text"
      },
      "source": [
        "**Model building**"
      ]
    },
    {
      "cell_type": "code",
      "metadata": {
        "id": "sYXSUGEQD1rq",
        "colab_type": "code",
        "colab": {}
      },
      "source": [
        "def lstm():\n",
        "  model = Sequential()\n",
        "  model.add(LSTM(128,return_sequences=True))\n",
        "  model.add(LSTM(128))\n",
        "  model.add(Dense(256))\n",
        "  model.add(Activation('relu'))\n",
        "  model.add(Dense(n_vocab))\n",
        "  model.add(Activation('softmax'))\n",
        "  model.compile(loss='sparse_categorical_crossentropy', optimizer='adam')\n",
        "  return model\n",
        "\n",
        "  # model = lstm()"
      ],
      "execution_count": 0,
      "outputs": []
    },
    {
      "cell_type": "code",
      "metadata": {
        "id": "9GfT7iIbEakG",
        "colab_type": "code",
        "outputId": "c66240ec-4bf7-4dc6-efb3-6de13449e927",
        "colab": {
          "base_uri": "https://localhost:8080/",
          "height": 320
        }
      },
      "source": [
        "from keras.layers import *\n",
        "from keras.models import *\n",
        "from keras.callbacks import *\n",
        "import keras.backend as K\n",
        "\n",
        "K.clear_session()\n",
        "\n",
        "# lstm\n",
        "\n",
        "model = Sequential()\n",
        "model.add(LSTM(128,input_shape=(32,1) ,return_sequences=True))\n",
        "model.add(LSTM(128))\n",
        "model.add(Dense(256))\n",
        "model.add(Activation('relu'))\n",
        "# model.add(len(unique_y))\n",
        "# model.add(Activation('softmax'))\n",
        "model.add(Dense(len(unique_y), activation='softmax'))\n",
        "model.compile(loss='sparse_categorical_crossentropy', optimizer='adam')\n",
        "\n",
        "\n",
        "# model = Sequential()\n",
        "    \n",
        "# #embedding layer\n",
        "# model.add(Embedding(len(unique_x), 100, input_length=32,trainable=True)) \n",
        "\n",
        "# model.add(Conv1D(64,3, padding='causal',activation='relu'))\n",
        "# model.add(Dropout(0.2))\n",
        "# model.add(MaxPool1D(2))\n",
        "    \n",
        "# model.add(Conv1D(128,3,activation='relu',dilation_rate=2,padding='causal'))\n",
        "# model.add(Dropout(0.2))\n",
        "# model.add(MaxPool1D(2))\n",
        "\n",
        "# model.add(Conv1D(256,3,activation='relu',dilation_rate=4,padding='causal'))\n",
        "# model.add(Dropout(0.2))\n",
        "# model.add(MaxPool1D(2))\n",
        "          \n",
        "# #model.add(Conv1D(256,5,activation='relu'))    \n",
        "# model.add(GlobalMaxPool1D())\n",
        "    \n",
        "# model.add(Dense(256, activation='relu'))\n",
        "# model.add(Dense(len(unique_y), activation='softmax'))\n",
        "    \n",
        "# model.compile(loss='sparse_categorical_crossentropy', optimizer='adam')\n",
        "# model.build((64413, 32,3))\n",
        "model.summary()"
      ],
      "execution_count": 50,
      "outputs": [
        {
          "output_type": "stream",
          "text": [
            "Model: \"sequential_1\"\n",
            "_________________________________________________________________\n",
            "Layer (type)                 Output Shape              Param #   \n",
            "=================================================================\n",
            "lstm_1 (LSTM)                (None, 32, 128)           66560     \n",
            "_________________________________________________________________\n",
            "lstm_2 (LSTM)                (None, 128)               131584    \n",
            "_________________________________________________________________\n",
            "dense_1 (Dense)              (None, 256)               33024     \n",
            "_________________________________________________________________\n",
            "activation_1 (Activation)    (None, 256)               0         \n",
            "_________________________________________________________________\n",
            "dense_2 (Dense)              (None, 167)               42919     \n",
            "=================================================================\n",
            "Total params: 274,087\n",
            "Trainable params: 274,087\n",
            "Non-trainable params: 0\n",
            "_________________________________________________________________\n"
          ],
          "name": "stdout"
        }
      ]
    },
    {
      "cell_type": "code",
      "metadata": {
        "id": "hCiSw5WPE6ru",
        "colab_type": "code",
        "colab": {}
      },
      "source": [
        "mc=ModelCheckpoint('best_model.h5', monitor='val_loss', mode='min', save_best_only=True,verbose=1)"
      ],
      "execution_count": 0,
      "outputs": []
    },
    {
      "cell_type": "code",
      "metadata": {
        "id": "x8SD--qxE96R",
        "colab_type": "code",
        "outputId": "5a1b7079-5058-4541-b319-1af507375e80",
        "colab": {
          "base_uri": "https://localhost:8080/",
          "height": 327
        }
      },
      "source": [
        "history = model.fit(np.array(x_tr),np.array(y_tr),batch_size=128,epochs=50, validation_data=(np.array(x_val),np.array(y_val)),verbose=1, callbacks=[mc])"
      ],
      "execution_count": 48,
      "outputs": [
        {
          "output_type": "error",
          "ename": "ValueError",
          "evalue": "ignored",
          "traceback": [
            "\u001b[0;31m---------------------------------------------------------------------------\u001b[0m",
            "\u001b[0;31mValueError\u001b[0m                                Traceback (most recent call last)",
            "\u001b[0;32m<ipython-input-48-0f04d130b451>\u001b[0m in \u001b[0;36m<module>\u001b[0;34m()\u001b[0m\n\u001b[0;32m----> 1\u001b[0;31m \u001b[0mhistory\u001b[0m \u001b[0;34m=\u001b[0m \u001b[0mmodel\u001b[0m\u001b[0;34m.\u001b[0m\u001b[0mfit\u001b[0m\u001b[0;34m(\u001b[0m\u001b[0mnp\u001b[0m\u001b[0;34m.\u001b[0m\u001b[0marray\u001b[0m\u001b[0;34m(\u001b[0m\u001b[0mx_tr\u001b[0m\u001b[0;34m)\u001b[0m\u001b[0;34m,\u001b[0m\u001b[0mnp\u001b[0m\u001b[0;34m.\u001b[0m\u001b[0marray\u001b[0m\u001b[0;34m(\u001b[0m\u001b[0my_tr\u001b[0m\u001b[0;34m)\u001b[0m\u001b[0;34m,\u001b[0m\u001b[0mbatch_size\u001b[0m\u001b[0;34m=\u001b[0m\u001b[0;36m128\u001b[0m\u001b[0;34m,\u001b[0m\u001b[0mepochs\u001b[0m\u001b[0;34m=\u001b[0m\u001b[0;36m50\u001b[0m\u001b[0;34m,\u001b[0m \u001b[0mvalidation_data\u001b[0m\u001b[0;34m=\u001b[0m\u001b[0;34m(\u001b[0m\u001b[0mnp\u001b[0m\u001b[0;34m.\u001b[0m\u001b[0marray\u001b[0m\u001b[0;34m(\u001b[0m\u001b[0mx_val\u001b[0m\u001b[0;34m)\u001b[0m\u001b[0;34m,\u001b[0m\u001b[0mnp\u001b[0m\u001b[0;34m.\u001b[0m\u001b[0marray\u001b[0m\u001b[0;34m(\u001b[0m\u001b[0my_val\u001b[0m\u001b[0;34m)\u001b[0m\u001b[0;34m)\u001b[0m\u001b[0;34m,\u001b[0m\u001b[0mverbose\u001b[0m\u001b[0;34m=\u001b[0m\u001b[0;36m1\u001b[0m\u001b[0;34m,\u001b[0m \u001b[0mcallbacks\u001b[0m\u001b[0;34m=\u001b[0m\u001b[0;34m[\u001b[0m\u001b[0mmc\u001b[0m\u001b[0;34m]\u001b[0m\u001b[0;34m)\u001b[0m\u001b[0;34m\u001b[0m\u001b[0;34m\u001b[0m\u001b[0m\n\u001b[0m",
            "\u001b[0;32m/usr/local/lib/python3.6/dist-packages/keras/engine/training.py\u001b[0m in \u001b[0;36mfit\u001b[0;34m(self, x, y, batch_size, epochs, verbose, callbacks, validation_split, validation_data, shuffle, class_weight, sample_weight, initial_epoch, steps_per_epoch, validation_steps, validation_freq, max_queue_size, workers, use_multiprocessing, **kwargs)\u001b[0m\n\u001b[1;32m   1152\u001b[0m             \u001b[0msample_weight\u001b[0m\u001b[0;34m=\u001b[0m\u001b[0msample_weight\u001b[0m\u001b[0;34m,\u001b[0m\u001b[0;34m\u001b[0m\u001b[0;34m\u001b[0m\u001b[0m\n\u001b[1;32m   1153\u001b[0m             \u001b[0mclass_weight\u001b[0m\u001b[0;34m=\u001b[0m\u001b[0mclass_weight\u001b[0m\u001b[0;34m,\u001b[0m\u001b[0;34m\u001b[0m\u001b[0;34m\u001b[0m\u001b[0m\n\u001b[0;32m-> 1154\u001b[0;31m             batch_size=batch_size)\n\u001b[0m\u001b[1;32m   1155\u001b[0m \u001b[0;34m\u001b[0m\u001b[0m\n\u001b[1;32m   1156\u001b[0m         \u001b[0;31m# Prepare validation data.\u001b[0m\u001b[0;34m\u001b[0m\u001b[0;34m\u001b[0m\u001b[0;34m\u001b[0m\u001b[0m\n",
            "\u001b[0;32m/usr/local/lib/python3.6/dist-packages/keras/engine/training.py\u001b[0m in \u001b[0;36m_standardize_user_data\u001b[0;34m(self, x, y, sample_weight, class_weight, check_array_lengths, batch_size)\u001b[0m\n\u001b[1;32m    577\u001b[0m             \u001b[0mfeed_input_shapes\u001b[0m\u001b[0;34m,\u001b[0m\u001b[0;34m\u001b[0m\u001b[0;34m\u001b[0m\u001b[0m\n\u001b[1;32m    578\u001b[0m             \u001b[0mcheck_batch_axis\u001b[0m\u001b[0;34m=\u001b[0m\u001b[0;32mFalse\u001b[0m\u001b[0;34m,\u001b[0m  \u001b[0;31m# Don't enforce the batch size.\u001b[0m\u001b[0;34m\u001b[0m\u001b[0;34m\u001b[0m\u001b[0m\n\u001b[0;32m--> 579\u001b[0;31m             exception_prefix='input')\n\u001b[0m\u001b[1;32m    580\u001b[0m \u001b[0;34m\u001b[0m\u001b[0m\n\u001b[1;32m    581\u001b[0m         \u001b[0;32mif\u001b[0m \u001b[0my\u001b[0m \u001b[0;32mis\u001b[0m \u001b[0;32mnot\u001b[0m \u001b[0;32mNone\u001b[0m\u001b[0;34m:\u001b[0m\u001b[0;34m\u001b[0m\u001b[0;34m\u001b[0m\u001b[0m\n",
            "\u001b[0;32m/usr/local/lib/python3.6/dist-packages/keras/engine/training_utils.py\u001b[0m in \u001b[0;36mstandardize_input_data\u001b[0;34m(data, names, shapes, check_batch_axis, exception_prefix)\u001b[0m\n\u001b[1;32m    133\u001b[0m                         \u001b[0;34m': expected '\u001b[0m \u001b[0;34m+\u001b[0m \u001b[0mnames\u001b[0m\u001b[0;34m[\u001b[0m\u001b[0mi\u001b[0m\u001b[0;34m]\u001b[0m \u001b[0;34m+\u001b[0m \u001b[0;34m' to have '\u001b[0m \u001b[0;34m+\u001b[0m\u001b[0;34m\u001b[0m\u001b[0;34m\u001b[0m\u001b[0m\n\u001b[1;32m    134\u001b[0m                         \u001b[0mstr\u001b[0m\u001b[0;34m(\u001b[0m\u001b[0mlen\u001b[0m\u001b[0;34m(\u001b[0m\u001b[0mshape\u001b[0m\u001b[0;34m)\u001b[0m\u001b[0;34m)\u001b[0m \u001b[0;34m+\u001b[0m \u001b[0;34m' dimensions, but got array '\u001b[0m\u001b[0;34m\u001b[0m\u001b[0;34m\u001b[0m\u001b[0m\n\u001b[0;32m--> 135\u001b[0;31m                         'with shape ' + str(data_shape))\n\u001b[0m\u001b[1;32m    136\u001b[0m                 \u001b[0;32mif\u001b[0m \u001b[0;32mnot\u001b[0m \u001b[0mcheck_batch_axis\u001b[0m\u001b[0;34m:\u001b[0m\u001b[0;34m\u001b[0m\u001b[0;34m\u001b[0m\u001b[0m\n\u001b[1;32m    137\u001b[0m                     \u001b[0mdata_shape\u001b[0m \u001b[0;34m=\u001b[0m \u001b[0mdata_shape\u001b[0m\u001b[0;34m[\u001b[0m\u001b[0;36m1\u001b[0m\u001b[0;34m:\u001b[0m\u001b[0;34m]\u001b[0m\u001b[0;34m\u001b[0m\u001b[0;34m\u001b[0m\u001b[0m\n",
            "\u001b[0;31mValueError\u001b[0m: Error when checking input: expected lstm_1_input to have 3 dimensions, but got array with shape (51530, 32)"
          ]
        }
      ]
    },
    {
      "cell_type": "code",
      "metadata": {
        "id": "hDgTcwoaFKNU",
        "colab_type": "code",
        "outputId": "f49b1634-3cc2-4d33-dd42-f306d7ce8aa0",
        "colab": {
          "base_uri": "https://localhost:8080/",
          "height": 70
        }
      },
      "source": [
        "from keras.models import load_model\n",
        "model = load_model('best_model.h5')"
      ],
      "execution_count": 0,
      "outputs": [
        {
          "output_type": "stream",
          "text": [
            "/usr/local/lib/python3.6/dist-packages/tensorflow/python/framework/indexed_slices.py:434: UserWarning: Converting sparse IndexedSlices to a dense Tensor of unknown shape. This may consume a large amount of memory.\n",
            "  \"Converting sparse IndexedSlices to a dense Tensor of unknown shape. \"\n"
          ],
          "name": "stderr"
        }
      ]
    },
    {
      "cell_type": "code",
      "metadata": {
        "id": "V_rwawFqLMKb",
        "colab_type": "code",
        "outputId": "e8b695a9-6569-44bc-f495-70eff128181f",
        "colab": {
          "base_uri": "https://localhost:8080/",
          "height": 33
        }
      },
      "source": [
        "import random\n",
        "ind = np.random.randint(0,len(x_val)-1)\n",
        "\n",
        "random_music = x_val[ind]\n",
        "predictions=[]\n",
        "for i in range(10):\n",
        "\n",
        "    random_music = random_music.reshape(1,no_of_timesteps)\n",
        "    prob  = model.predict(random_music)[0]\n",
        "    y_pred= np.argmax(prob,axis=0)\n",
        "    predictions.append(y_pred)\n",
        "\n",
        "    random_music = np.insert(random_music[0],len(random_music[0]),y_pred)\n",
        "    random_music = random_music[1:]\n",
        "    \n",
        "print(predictions)"
      ],
      "execution_count": 0,
      "outputs": [
        {
          "output_type": "stream",
          "text": [
            "[164, 26, 86, 26, 38, 26, 38, 7, 7, 78]\n"
          ],
          "name": "stdout"
        }
      ]
    },
    {
      "cell_type": "code",
      "metadata": {
        "id": "Qnn3BdOYLWzA",
        "colab_type": "code",
        "colab": {}
      },
      "source": [
        "x_int_to_note = dict((number, note_) for number, note_ in enumerate(unique_x)) \n",
        "predicted_notes = [x_int_to_note[i] for i in predictions]"
      ],
      "execution_count": 0,
      "outputs": []
    },
    {
      "cell_type": "code",
      "metadata": {
        "id": "xbeeMFWvLaIU",
        "colab_type": "code",
        "colab": {}
      },
      "source": [
        "def convert_to_midi(prediction_output):\n",
        "   \n",
        "    offset = 0\n",
        "    output_notes = []\n",
        "\n",
        "    # create note and chord objects based on the values generated by the model\n",
        "    for pattern in prediction_output:\n",
        "        \n",
        "        # pattern is a chord\n",
        "        if ('.' in pattern) or pattern.isdigit():\n",
        "            notes_in_chord = pattern.split('.')\n",
        "            notes = []\n",
        "            for current_note in notes_in_chord:\n",
        "                \n",
        "                cn=int(current_note)\n",
        "                new_note = note.Note(cn)\n",
        "                new_note.storedInstrument = instrument.Piano()\n",
        "                notes.append(new_note)\n",
        "                \n",
        "            new_chord = chord.Chord(notes)\n",
        "            new_chord.offset = offset\n",
        "            output_notes.append(new_chord)\n",
        "            \n",
        "        # pattern is a note\n",
        "        else:\n",
        "            \n",
        "            new_note = note.Note(pattern)\n",
        "            new_note.offset = offset\n",
        "            new_note.storedInstrument = instrument.Piano()\n",
        "            output_notes.append(new_note)\n",
        "\n",
        "        # increase offset each iteration so that notes do not stack\n",
        "        offset += 1\n",
        "    midi_stream = stream.Stream(output_notes)\n",
        "    midi_stream.write('midi', fp='music.mid')\n"
      ],
      "execution_count": 0,
      "outputs": []
    },
    {
      "cell_type": "code",
      "metadata": {
        "id": "YIx1S4LvLkJX",
        "colab_type": "code",
        "colab": {}
      },
      "source": [
        "convert_to_midi(predicted_notes)"
      ],
      "execution_count": 0,
      "outputs": []
    },
    {
      "cell_type": "code",
      "metadata": {
        "id": "KmBN6NUiLmkZ",
        "colab_type": "code",
        "colab": {}
      },
      "source": [
        "from music21 import midi\n",
        "\n",
        "def playMidi(filename):\n",
        "  mf = midi.MidiFile()\n",
        "  mf.open(filename)\n",
        "  mf.read()\n",
        "  mf.close()\n",
        "  s = midi.translate.midiFilePathToStream(mf)\n",
        "  s.show('mid')"
      ],
      "execution_count": 0,
      "outputs": []
    },
    {
      "cell_type": "code",
      "metadata": {
        "id": "YGX9n-WyNWrF",
        "colab_type": "code",
        "outputId": "78eca34e-82a2-4896-89a2-de6e034c641b",
        "colab": {
          "base_uri": "https://localhost:8080/",
          "height": 322
        }
      },
      "source": [
        "playMidi('music.mid')"
      ],
      "execution_count": 0,
      "outputs": [
        {
          "output_type": "error",
          "ename": "OSError",
          "evalue": "ignored",
          "traceback": [
            "\u001b[0;31m---------------------------------------------------------------------------\u001b[0m",
            "\u001b[0;31mOSError\u001b[0m                                   Traceback (most recent call last)",
            "\u001b[0;32m<ipython-input-48-350413c999e7>\u001b[0m in \u001b[0;36m<module>\u001b[0;34m()\u001b[0m\n\u001b[0;32m----> 1\u001b[0;31m \u001b[0mplayMidi\u001b[0m\u001b[0;34m(\u001b[0m\u001b[0;34m'music.mid'\u001b[0m\u001b[0;34m)\u001b[0m\u001b[0;34m\u001b[0m\u001b[0;34m\u001b[0m\u001b[0m\n\u001b[0m",
            "\u001b[0;32m<ipython-input-47-a7f2ce3bf5e0>\u001b[0m in \u001b[0;36mplayMidi\u001b[0;34m(filename)\u001b[0m\n\u001b[1;32m      6\u001b[0m   \u001b[0mmf\u001b[0m\u001b[0;34m.\u001b[0m\u001b[0mread\u001b[0m\u001b[0;34m(\u001b[0m\u001b[0;34m)\u001b[0m\u001b[0;34m\u001b[0m\u001b[0;34m\u001b[0m\u001b[0m\n\u001b[1;32m      7\u001b[0m   \u001b[0mmf\u001b[0m\u001b[0;34m.\u001b[0m\u001b[0mclose\u001b[0m\u001b[0;34m(\u001b[0m\u001b[0;34m)\u001b[0m\u001b[0;34m\u001b[0m\u001b[0;34m\u001b[0m\u001b[0m\n\u001b[0;32m----> 8\u001b[0;31m   \u001b[0ms\u001b[0m \u001b[0;34m=\u001b[0m \u001b[0mmidi\u001b[0m\u001b[0;34m.\u001b[0m\u001b[0mtranslate\u001b[0m\u001b[0;34m.\u001b[0m\u001b[0mmidiFilePathToStream\u001b[0m\u001b[0;34m(\u001b[0m\u001b[0mmf\u001b[0m\u001b[0;34m)\u001b[0m\u001b[0;34m\u001b[0m\u001b[0;34m\u001b[0m\u001b[0m\n\u001b[0m\u001b[1;32m      9\u001b[0m   \u001b[0ms\u001b[0m\u001b[0;34m.\u001b[0m\u001b[0mshow\u001b[0m\u001b[0;34m(\u001b[0m\u001b[0;34m'mid'\u001b[0m\u001b[0;34m)\u001b[0m\u001b[0;34m\u001b[0m\u001b[0;34m\u001b[0m\u001b[0m\n",
            "\u001b[0;32m/usr/local/lib/python3.6/dist-packages/music21/midi/translate.py\u001b[0m in \u001b[0;36mmidiFilePathToStream\u001b[0;34m(filePath, inputM21, **keywords)\u001b[0m\n\u001b[1;32m   1970\u001b[0m     \u001b[0;32mfrom\u001b[0m \u001b[0mmusic21\u001b[0m \u001b[0;32mimport\u001b[0m \u001b[0mmidi\u001b[0m \u001b[0;32mas\u001b[0m \u001b[0mmidiModule\u001b[0m\u001b[0;34m\u001b[0m\u001b[0;34m\u001b[0m\u001b[0m\n\u001b[1;32m   1971\u001b[0m     \u001b[0mmf\u001b[0m \u001b[0;34m=\u001b[0m \u001b[0mmidiModule\u001b[0m\u001b[0;34m.\u001b[0m\u001b[0mMidiFile\u001b[0m\u001b[0;34m(\u001b[0m\u001b[0;34m)\u001b[0m\u001b[0;34m\u001b[0m\u001b[0;34m\u001b[0m\u001b[0m\n\u001b[0;32m-> 1972\u001b[0;31m     \u001b[0mmf\u001b[0m\u001b[0;34m.\u001b[0m\u001b[0mopen\u001b[0m\u001b[0;34m(\u001b[0m\u001b[0mfilePath\u001b[0m\u001b[0;34m)\u001b[0m\u001b[0;34m\u001b[0m\u001b[0;34m\u001b[0m\u001b[0m\n\u001b[0m\u001b[1;32m   1973\u001b[0m     \u001b[0mmf\u001b[0m\u001b[0;34m.\u001b[0m\u001b[0mread\u001b[0m\u001b[0;34m(\u001b[0m\u001b[0;34m)\u001b[0m\u001b[0;34m\u001b[0m\u001b[0;34m\u001b[0m\u001b[0m\n\u001b[1;32m   1974\u001b[0m     \u001b[0mmf\u001b[0m\u001b[0;34m.\u001b[0m\u001b[0mclose\u001b[0m\u001b[0;34m(\u001b[0m\u001b[0;34m)\u001b[0m\u001b[0;34m\u001b[0m\u001b[0;34m\u001b[0m\u001b[0m\n",
            "\u001b[0;32m/usr/local/lib/python3.6/dist-packages/music21/midi/__init__.py\u001b[0m in \u001b[0;36mopen\u001b[0;34m(self, filename, attrib)\u001b[0m\n\u001b[1;32m   1246\u001b[0m         \u001b[0;32mif\u001b[0m \u001b[0mattrib\u001b[0m \u001b[0;32mnot\u001b[0m \u001b[0;32min\u001b[0m \u001b[0;34m[\u001b[0m\u001b[0;34m'rb'\u001b[0m\u001b[0;34m,\u001b[0m \u001b[0;34m'wb'\u001b[0m\u001b[0;34m]\u001b[0m\u001b[0;34m:\u001b[0m\u001b[0;34m\u001b[0m\u001b[0;34m\u001b[0m\u001b[0m\n\u001b[1;32m   1247\u001b[0m             \u001b[0;32mraise\u001b[0m \u001b[0mMidiException\u001b[0m\u001b[0;34m(\u001b[0m\u001b[0;34m'cannot read or write unless in binary mode, not:'\u001b[0m\u001b[0;34m,\u001b[0m \u001b[0mattrib\u001b[0m\u001b[0;34m)\u001b[0m\u001b[0;34m\u001b[0m\u001b[0;34m\u001b[0m\u001b[0m\n\u001b[0;32m-> 1248\u001b[0;31m         \u001b[0mself\u001b[0m\u001b[0;34m.\u001b[0m\u001b[0mfile\u001b[0m \u001b[0;34m=\u001b[0m \u001b[0mopen\u001b[0m\u001b[0;34m(\u001b[0m\u001b[0mstr\u001b[0m\u001b[0;34m(\u001b[0m\u001b[0mfilename\u001b[0m\u001b[0;34m)\u001b[0m\u001b[0;34m,\u001b[0m \u001b[0mattrib\u001b[0m\u001b[0;34m)\u001b[0m\u001b[0;34m\u001b[0m\u001b[0;34m\u001b[0m\u001b[0m\n\u001b[0m\u001b[1;32m   1249\u001b[0m \u001b[0;34m\u001b[0m\u001b[0m\n\u001b[1;32m   1250\u001b[0m     \u001b[0;32mdef\u001b[0m \u001b[0mopenFileLike\u001b[0m\u001b[0;34m(\u001b[0m\u001b[0mself\u001b[0m\u001b[0;34m,\u001b[0m \u001b[0mfileLike\u001b[0m\u001b[0;34m)\u001b[0m\u001b[0;34m:\u001b[0m\u001b[0;34m\u001b[0m\u001b[0;34m\u001b[0m\u001b[0m\n",
            "\u001b[0;31mOSError\u001b[0m: [Errno 36] File name too long: \"<MidiFile 1 tracks\\n  <MidiTrack 0 -- 86 events\\n    <MidiEvent DeltaTime, t=0, track=0, channel=None>\\n    <MidiEvent SEQUENCE_TRACK_NAME, t=None, track=0, channel=None, data=b''>\\n    <MidiEvent DeltaTime, t=0, track=0, channel=None>\\n    <MidiEvent PITCH_BEND, t=None, track=0, channel=1, parameter1=0, parameter2=64>\\n    <MidiEvent DeltaTime, t=0, track=0, channel=None>\\n    <MidiEvent NOTE_ON, t=None, track=0, channel=1, pitch=43, velocity=90>\\n    <MidiEvent DeltaTime, t=1024, track=0, channel=None>\\n    <MidiEvent NOTE_OFF, t=None, track=0, channel=1, pitch=43, velocity=0>\\n    <MidiEvent DeltaTime, t=0, track=0, channel=None>\\n    <MidiEvent NOTE_ON, t=None, track=0, channel=1, pitch=64, velocity=90>\\n    <MidiEvent DeltaTime, t=0, track=0, channel=None>\\n    <MidiEvent NOTE_ON, t=None, track=0, channel=1, pitch=67, velocity=90>\\n    <MidiEvent DeltaTime, t=0, track=0, channel=None>\\n    <MidiEvent NOTE_ON, t=None, track=0, channel=1, pitch=71, velocity=90>\\n    <MidiEvent DeltaTime, t=1024, track=0, channel=None>\\n    <MidiEvent NOTE_OFF, t=None, track=0, channel=1, pitch=64, velocity=0>\\n    <MidiEvent DeltaTime, t=0, track=0, channel=None>\\n    <MidiEvent NOTE_OFF, t=None, track=0, channel=1, pitch=67, velocity=0>\\n    <MidiEvent DeltaTime, t=0, track=0, channel=None>\\n    <MidiEvent NOTE_OFF, t=None, track=0, channel=1, pitch=71, velocity=0>\\n    <MidiEvent DeltaTime, t=0, track=0, channel=None>\\n    <MidiEvent..."
          ]
        }
      ]
    },
    {
      "cell_type": "code",
      "metadata": {
        "id": "FrWg9tctNbBq",
        "colab_type": "code",
        "colab": {}
      },
      "source": [
        ""
      ],
      "execution_count": 0,
      "outputs": []
    }
  ]
}